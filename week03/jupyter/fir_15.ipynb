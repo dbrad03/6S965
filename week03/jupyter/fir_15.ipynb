{
 "cells": [
  {
   "cell_type": "code",
   "execution_count": null,
   "id": "d4bcd70d",
   "metadata": {},
   "outputs": [],
   "source": [
    "from pynq import PL\n",
    "PL.reset() #important fixes caching issues which have popped up.\n",
    "from pynq import Overlay  #import the overlay module\n",
    "ol = Overlay('./design_1_wrapper.bit')  #locate/point to the bit file"
   ]
  },
  {
   "cell_type": "code",
   "execution_count": null,
   "id": "c9af2d15",
   "metadata": {},
   "outputs": [],
   "source": [
    "import math\n",
    "fi = ol.fir_interface_0  #find the AXI MMIO module which we can talk to (name of IP)\n",
    "coeffs = []\n",
    "emboss = [0,0,0,0,0,0,0,0,0,0,0,0,0,-4,4] #simple emboss kernel\n",
    "smooth=[-2,-3,-4,0,9,21,32,36,32,21,9,0,-4,-3,-2]\n",
    "jumpy=[-3,14,-20,6,16,-5,-41,68,-41,-5,16,6,-20,14,-3]\n",
    "\n",
    "coeffs = emboss\n",
    "\n",
    "#most kernels will have > unity gain. We need to undo this with a final shift.\n",
    "#to calculate, sum the coefficients\n",
    "#figure out the closest power 2 that sum is, then use to assign the shift amount\n",
    "coeffs_sum = sum(coeffs)\n",
    "shift_amt = 0\n",
    "if coeffs_sum!=0:\n",
    "    shift_amt = int(math.ceil(math.log(sum(coeffs),2)))\n",
    "print(coeffs_sum, shift_amt)\n",
    "#To set values in our MMIO:\n",
    " \n",
    "#write coefficients (registers 0 through 15):\n",
    "for i in range(15):\n",
    "    fi.write(i*4,coeffs[i])\n",
    "fi.write(15*4,7) #turn on all three channels (rgb) via reg 15\n",
    "fi.write(16*4,shift_amt) #write shift amount to reg 16\n",
    "fi.write(17*4,1) #turn on offset signal (signals processed as -128 to 127) (register 17)\n",
    "d = fi.read(15*4) #read back for sanity\n",
    "print(hex(d))"
   ]
  }
 ],
 "metadata": {
  "kernelspec": {
   "display_name": ".venv",
   "language": "python",
   "name": "python3"
  },
  "language_info": {
   "name": "python",
   "version": "3.12.3"
  }
 },
 "nbformat": 4,
 "nbformat_minor": 5
}
