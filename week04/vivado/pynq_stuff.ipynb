{
 "cells": [
  {
   "cell_type": "code",
   "execution_count": null,
   "id": "6d94bcce",
   "metadata": {
    "vscode": {
     "languageId": "plaintext"
    }
   },
   "outputs": [],
   "source": [
    "from pynq import PL\n",
    "PL.reset() #important fixes caching issues which have popped up.\n",
    "from pynq import Overlay  #import the overlay module\n",
    "ol = Overlay('./design_1_wrapper.bit')  #locate/point to the bit file\n",
    "import pprint\n",
    "pprint.pprint(ol.ip_dict)\n",
    "dma = ol.dma #because my DMA was named as \"dma\" this works\n",
    "from pynq import Clocks\n",
    "Clocks.fclk0_mhz = 100 # bring up to 100MHz in case it didn't start there (not sure why it won't)"
   ]
  },
  {
   "cell_type": "code",
   "execution_count": null,
   "id": "5fc67877",
   "metadata": {
    "vscode": {
     "languageId": "plaintext"
    }
   },
   "outputs": [],
   "source": [
    "import numpy as np\n",
    "from scipy.signal import lfilter\n",
    "import time\n",
    "%matplotlib notebook\n",
    "import matplotlib.pyplot as plt\n",
    "from scipy.signal import lfilter\n",
    " \n",
    "def plot_to_notebook(time_sec,in_signal,n_samples,out_signal=None):\n",
    "    plt.figure()\n",
    "    plt.subplot(1, 1, 1)\n",
    "    plt.xlabel('Time (usec)')\n",
    "    plt.grid()\n",
    "    plt.plot(time_sec[:n_samples]*1e6,in_signal[:n_samples],'y-',label='Input signal')\n",
    "    if out_signal is not None:\n",
    "        plt.plot(time_sec[:n_samples]*1e6,out_signal[:n_samples],'g-',linewidth=2,label='Module output')\n",
    "    plt.legend()\n",
    " \n",
    "# Total time of signal\n",
    "#just create 20 ms of signal in python for testing and demo:\n",
    "T = 0.02\n",
    "# Sampling frequency\n",
    "fs = 100e6\n",
    "# Number of samples\n",
    "n = int(T * fs)\n",
    "# Time vector in seconds\n",
    "t = np.linspace(0, T, n, endpoint=False)\n",
    "# Samples of the signal\n",
    "samples = 10000*np.sin(0.2e6*2*np.pi*t) + 1500*np.cos(46e6*2*np.pi*t) + 2000*np.sin(20e6*2*np.pi*t)\n",
    "# Convert samples to 32-bit integers\n",
    "samples = samples.astype(np.int32)\n",
    "print('Number of samples: ',len(samples))\n",
    " \n",
    "# Plot signal to the notebook\n",
    "plot_to_notebook(t,samples,1000)\n",
    " \n",
    " \n",
    "#my fir coefficients...maybe your's are different.\n",
    "#change if different!\n",
    "coeffs = np.array([-2,-3,-4,0,9,21,32,36,32,21,9,0,-4,-3,-2])\n",
    "start_time = time.time() #just before operation run\n",
    "#For first part just do the simple math operation we wanted:\n",
    "#this is numpy array so it'll know how to do this operation\n",
    "#in a pretty efficient manner!\n",
    "swresult = 3*samples+10000\n",
    " \n",
    "#lfilter is a decently fast way to run a fir in python\n",
    "#there's some sites that compare, but it is in the running for\n",
    "#among the good ones/most efficient.\n",
    "#remember despite this being \"python\", it is really just Python\n",
    "#calling highly optimized C operations (numpy and scipyi) written\n",
    "# by better people than you or I, so this is a pretty decent\n",
    "#test of a what a computer can do on the SW side.\n",
    "#first arg is zeroes coefficients (which correspond to the\n",
    "#delay taps of the FIR (the feed-forward coefficients)\n",
    "#second arg is the feedback coefficients (poles coefficients)\n",
    "#That'll be just 1 here since we're an FIR\n",
    "#Third argument is the samples.\n",
    "#uncomment for part 2 (And comment out the earlier 3*samples+10000\n",
    "#swresult = lfilter(coeffs, [1.0], samples)\n",
    " \n",
    "stop_time = time.time() #just after operation run\n",
    "sw_exec_time = stop_time - start_time\n",
    "print('Software execution time: ',sw_exec_time)\n",
    " \n",
    "# Plot the result to notebook\n",
    "plot_to_notebook(t,samples,1000,out_signal=swresult)\n",
    " \n",
    "#HARDWARE TIME\n",
    "#now it is time to run on hardware:\n",
    "from pynq import allocate\n",
    "import numpy as np\n",
    " \n",
    "# Allocate buffers for the input and output signals\n",
    "in_buffer = allocate(shape=(n,), dtype=np.int32)\n",
    "out_buffer = allocate(shape=(n,), dtype=np.int32)\n",
    " \n",
    "# Copy the samples to the in_buffer\n",
    "np.copyto(in_buffer,samples)\n",
    " \n",
    "# Trigger the DMA transfer and wait for the result\n",
    "start_time = time.time()\n",
    "dma.sendchannel.transfer(in_buffer)\n",
    "dma.recvchannel.transfer(out_buffer)\n",
    "dma.sendchannel.wait()\n",
    "dma.recvchannel.wait()\n",
    "stop_time = time.time()\n",
    "hw_exec_time = stop_time-start_time\n",
    "print('Hardware execution time: ',hw_exec_time)\n",
    "print('Hardware acceleration factor: ',sw_exec_time / hw_exec_time)\n",
    "# Plot to the notebook\n",
    "plot_to_notebook(t,samples,1000,out_signal=out_buffer)\n",
    " \n",
    "# Free the buffers\n",
    "in_buffer.close()\n",
    "out_buffer.close()"
   ]
  },
  {
   "cell_type": "code",
   "execution_count": null,
   "id": "3300f24f",
   "metadata": {
    "vscode": {
     "languageId": "plaintext"
    }
   },
   "outputs": [],
   "source": []
  }
 ],
 "metadata": {
  "language_info": {
   "name": "python"
  }
 },
 "nbformat": 4,
 "nbformat_minor": 5
}
